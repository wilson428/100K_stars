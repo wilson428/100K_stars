{
  "nbformat": 4,
  "nbformat_minor": 0,
  "metadata": {
    "colab": {
      "name": "Calculating_Apportionment.ipynb",
      "provenance": [],
      "collapsed_sections": [],
      "toc_visible": true,
      "authorship_tag": "ABX9TyNmhLwRiP9qqcMYcGIjlizm",
      "include_colab_link": true
    },
    "kernelspec": {
      "name": "python3",
      "display_name": "Python 3"
    },
    "language_info": {
      "name": "python"
    }
  },
  "cells": [
    {
      "cell_type": "markdown",
      "metadata": {
        "id": "view-in-github",
        "colab_type": "text"
      },
      "source": [
        "<a href=\"https://colab.research.google.com/github/wilson428/100K_stars/blob/master/Calculating_Apportionment.ipynb\" target=\"_parent\"><img src=\"https://colab.research.google.com/assets/colab-badge.svg\" alt=\"Open In Colab\"/></a>"
      ]
    },
    {
      "cell_type": "code",
      "metadata": {
        "id": "bdzSAmnRoMaI"
      },
      "source": [
        "from IPython.display import HTML, Latex\n",
        "import numpy as np\n",
        "import pandas as pd"
      ],
      "execution_count": 13,
      "outputs": []
    },
    {
      "cell_type": "markdown",
      "metadata": {
        "id": "jyxvcHdanwRk"
      },
      "source": [
        "# How to Hack On Apportionment in the U.S. House of Representatives\n",
        "\n",
        "The House of Representatives has stood at 435 members for nearly 100 years as the population of the country has tripled. How much larger should it be to minimize the difference in how many people each Member represents?\n",
        "\n",
        "Before we explore that question in the notebook [EnlargeTheHouse.ipynb](https://colab.research.google.com/drive/1TjyO-2bO4z5X_Hblw0AoINpxTMjWDkIS?usp=sharing), we need to replicate the existing apportionment method in Python and make sure it matches the official tally for the [2020 Census decennial population count](https://www.census.gov/data/tables/2020/dec/2020-apportionment-data.html)."
      ]
    },
    {
      "cell_type": "markdown",
      "metadata": {
        "id": "2P5XlgG55IwS"
      },
      "source": [
        "## Loading the Data\n",
        "\n",
        "The [GitHub repo for this demo](https://github.com/TimeMagazineLabs/CongressionalApportionment) has data files from Census.gov for the 2010 and 2020 decennial Census counts as well as the official apportionments so that we can check our work. We'll use [Pandas](https://pandas.pydata.org/). Here's what the data looks like:"
      ]
    },
    {
      "cell_type": "code",
      "metadata": {
        "colab": {
          "base_uri": "https://localhost:8080/",
          "height": 204
        },
        "id": "prfOfpPPskGA",
        "outputId": "41d62554-4685-4bdf-9c7f-a676de58199c"
      },
      "source": [
        "data_2020 = pd.read_csv('https://raw.githubusercontent.com/TimeMagazineLabs/CongressionalApportionment/main/data/apportionment_2020.csv',dtype={'State': 'string', 'Abbr': 'string', 'Reps': 'Int64'})\n",
        "data_2020['Per_Rep'] = np.int64(data_2020['Population'] / data_2020['Reps'])\n",
        "data_2020.head()"
      ],
      "execution_count": 14,
      "outputs": [
        {
          "output_type": "execute_result",
          "data": {
            "text/html": [
              "<div>\n",
              "<style scoped>\n",
              "    .dataframe tbody tr th:only-of-type {\n",
              "        vertical-align: middle;\n",
              "    }\n",
              "\n",
              "    .dataframe tbody tr th {\n",
              "        vertical-align: top;\n",
              "    }\n",
              "\n",
              "    .dataframe thead th {\n",
              "        text-align: right;\n",
              "    }\n",
              "</style>\n",
              "<table border=\"1\" class=\"dataframe\">\n",
              "  <thead>\n",
              "    <tr style=\"text-align: right;\">\n",
              "      <th></th>\n",
              "      <th>State</th>\n",
              "      <th>Abbr</th>\n",
              "      <th>Year</th>\n",
              "      <th>Population</th>\n",
              "      <th>Reps</th>\n",
              "      <th>Per_Rep</th>\n",
              "    </tr>\n",
              "  </thead>\n",
              "  <tbody>\n",
              "    <tr>\n",
              "      <th>0</th>\n",
              "      <td>Alabama</td>\n",
              "      <td>AL</td>\n",
              "      <td>2020</td>\n",
              "      <td>5030053</td>\n",
              "      <td>7</td>\n",
              "      <td>718579</td>\n",
              "    </tr>\n",
              "    <tr>\n",
              "      <th>1</th>\n",
              "      <td>Alaska</td>\n",
              "      <td>AK</td>\n",
              "      <td>2020</td>\n",
              "      <td>736081</td>\n",
              "      <td>1</td>\n",
              "      <td>736081</td>\n",
              "    </tr>\n",
              "    <tr>\n",
              "      <th>2</th>\n",
              "      <td>Arizona</td>\n",
              "      <td>AZ</td>\n",
              "      <td>2020</td>\n",
              "      <td>7158923</td>\n",
              "      <td>9</td>\n",
              "      <td>795435</td>\n",
              "    </tr>\n",
              "    <tr>\n",
              "      <th>3</th>\n",
              "      <td>Arkansas</td>\n",
              "      <td>AR</td>\n",
              "      <td>2020</td>\n",
              "      <td>3013756</td>\n",
              "      <td>4</td>\n",
              "      <td>753439</td>\n",
              "    </tr>\n",
              "    <tr>\n",
              "      <th>4</th>\n",
              "      <td>California</td>\n",
              "      <td>CA</td>\n",
              "      <td>2020</td>\n",
              "      <td>39576757</td>\n",
              "      <td>52</td>\n",
              "      <td>761091</td>\n",
              "    </tr>\n",
              "  </tbody>\n",
              "</table>\n",
              "</div>"
            ],
            "text/plain": [
              "        State Abbr  Year  Population  Reps  Per_Rep\n",
              "0     Alabama   AL  2020     5030053     7   718579\n",
              "1      Alaska   AK  2020      736081     1   736081\n",
              "2     Arizona   AZ  2020     7158923     9   795435\n",
              "3    Arkansas   AR  2020     3013756     4   753439\n",
              "4  California   CA  2020    39576757    52   761091"
            ]
          },
          "metadata": {},
          "execution_count": 14
        }
      ]
    },
    {
      "cell_type": "markdown",
      "metadata": {
        "id": "7Oag308Cozwe"
      },
      "source": [
        "## How Apportionment Works: The Equal Proportions Method\n",
        "\n",
        "Since 1940, Congress [has used the \"Equal Proportions Method\"](https://www.census.gov/topics/public-sector/congressional-apportionment/about/computing.html) to apportion the 435 House seats to each state&mdash;a figure that is enshired by law, not by mathematics or logic.\n",
        "\n",
        "First, per the Constitution, every state gets one seat. For the remaining 385, each state's \"priority\" is measured by a simple formula that divides its population, as of the most recent decennial Census, by the square root of the product of the number of seats it currently has and that number plus 1 (the [geometric mean](https://mathworld.wolfram.com/GeometricMean.html)):\n",
        "\\begin{equation}\n",
        "priority = \\frac{P}{\\sqrt{n*(n+1)}}\n",
        "\\end{equation}\n",
        "For each seat, one at a time, the state with the highest priority is awarded that seat. Then its priority is recalculated and it moves further back in the line. Let's write a Python function to calculate the priority of a state, representated as a row in the table (aka \"DataFrame\") above. (We'll be adding a `RepsCalculated` column to compare to the official tally.)"
      ]
    },
    {
      "cell_type": "code",
      "metadata": {
        "id": "SgztKg1S66kK"
      },
      "source": [
        "def EqualProportionsMethod(st):\n",
        "  reps = st[\"RepsCalculated\"]\n",
        "  priority = st[\"Population\"] / np.sqrt(reps * (reps + 1))\n",
        "  return priority"
      ],
      "execution_count": 15,
      "outputs": []
    },
    {
      "cell_type": "markdown",
      "metadata": {
        "id": "IiOgshjN6coC"
      },
      "source": [
        "## Recalculating the apportionments\n",
        "\n",
        "Let's recalculate the apportionment to make sure it matches the official tally. We'll make a copy of the data frame for each trial run and add columns for the calculated reps and the priority from the Equal Proportions Method algorithm, using the Pandas `.apply` method for DataFrames. Remember, each state starts with 1 seat, so we'll initialize `RepsCalculated` to 1 and start the apportionment with 385 seats remaining.\n",
        "\n",
        "Since the data includes Puerto Rico and D.C., neither of which are eligible for representatives, we'll need to remove them."
      ]
    },
    {
      "cell_type": "code",
      "metadata": {
        "colab": {
          "base_uri": "https://localhost:8080/"
        },
        "id": "9DZvk7A0BlOc",
        "outputId": "97be605d-ec06-4464-d844-d2aa6ee1154c"
      },
      "source": [
        "data_2020_states_only = data_2020[~data_2020['State'].isin([\"District of Columbia\", \"Puerto Rico\"])]\n",
        "data_2020_states_only.reset_index(drop=True)\n",
        "print(data_2020.shape[0], data_2020_states_only.shape[0])"
      ],
      "execution_count": 16,
      "outputs": [
        {
          "output_type": "stream",
          "name": "stdout",
          "text": [
            "52 50\n"
          ]
        }
      ]
    },
    {
      "cell_type": "code",
      "metadata": {
        "colab": {
          "base_uri": "https://localhost:8080/",
          "height": 204
        },
        "id": "Gm6BEf1css7x",
        "outputId": "c8905a6f-7c72-4ef4-ebd6-142eac939e23"
      },
      "source": [
        "test_2020 = data_2020_states_only.copy()\n",
        "test_2020['RepsCalculated'] = 1\n",
        "test_2020['Priority'] = test_2020.apply(EqualProportionsMethod, 1)\n",
        "test_2020.head()"
      ],
      "execution_count": 17,
      "outputs": [
        {
          "output_type": "execute_result",
          "data": {
            "text/html": [
              "<div>\n",
              "<style scoped>\n",
              "    .dataframe tbody tr th:only-of-type {\n",
              "        vertical-align: middle;\n",
              "    }\n",
              "\n",
              "    .dataframe tbody tr th {\n",
              "        vertical-align: top;\n",
              "    }\n",
              "\n",
              "    .dataframe thead th {\n",
              "        text-align: right;\n",
              "    }\n",
              "</style>\n",
              "<table border=\"1\" class=\"dataframe\">\n",
              "  <thead>\n",
              "    <tr style=\"text-align: right;\">\n",
              "      <th></th>\n",
              "      <th>State</th>\n",
              "      <th>Abbr</th>\n",
              "      <th>Year</th>\n",
              "      <th>Population</th>\n",
              "      <th>Reps</th>\n",
              "      <th>Per_Rep</th>\n",
              "      <th>RepsCalculated</th>\n",
              "      <th>Priority</th>\n",
              "    </tr>\n",
              "  </thead>\n",
              "  <tbody>\n",
              "    <tr>\n",
              "      <th>0</th>\n",
              "      <td>Alabama</td>\n",
              "      <td>AL</td>\n",
              "      <td>2020</td>\n",
              "      <td>5030053</td>\n",
              "      <td>7</td>\n",
              "      <td>718579</td>\n",
              "      <td>1</td>\n",
              "      <td>3.556785e+06</td>\n",
              "    </tr>\n",
              "    <tr>\n",
              "      <th>1</th>\n",
              "      <td>Alaska</td>\n",
              "      <td>AK</td>\n",
              "      <td>2020</td>\n",
              "      <td>736081</td>\n",
              "      <td>1</td>\n",
              "      <td>736081</td>\n",
              "      <td>1</td>\n",
              "      <td>5.204879e+05</td>\n",
              "    </tr>\n",
              "    <tr>\n",
              "      <th>2</th>\n",
              "      <td>Arizona</td>\n",
              "      <td>AZ</td>\n",
              "      <td>2020</td>\n",
              "      <td>7158923</td>\n",
              "      <td>9</td>\n",
              "      <td>795435</td>\n",
              "      <td>1</td>\n",
              "      <td>5.062123e+06</td>\n",
              "    </tr>\n",
              "    <tr>\n",
              "      <th>3</th>\n",
              "      <td>Arkansas</td>\n",
              "      <td>AR</td>\n",
              "      <td>2020</td>\n",
              "      <td>3013756</td>\n",
              "      <td>4</td>\n",
              "      <td>753439</td>\n",
              "      <td>1</td>\n",
              "      <td>2.131047e+06</td>\n",
              "    </tr>\n",
              "    <tr>\n",
              "      <th>4</th>\n",
              "      <td>California</td>\n",
              "      <td>CA</td>\n",
              "      <td>2020</td>\n",
              "      <td>39576757</td>\n",
              "      <td>52</td>\n",
              "      <td>761091</td>\n",
              "      <td>1</td>\n",
              "      <td>2.798499e+07</td>\n",
              "    </tr>\n",
              "  </tbody>\n",
              "</table>\n",
              "</div>"
            ],
            "text/plain": [
              "        State Abbr  Year  ...  Per_Rep  RepsCalculated      Priority\n",
              "0     Alabama   AL  2020  ...   718579               1  3.556785e+06\n",
              "1      Alaska   AK  2020  ...   736081               1  5.204879e+05\n",
              "2     Arizona   AZ  2020  ...   795435               1  5.062123e+06\n",
              "3    Arkansas   AR  2020  ...   753439               1  2.131047e+06\n",
              "4  California   CA  2020  ...   761091               1  2.798499e+07\n",
              "\n",
              "[5 rows x 8 columns]"
            ]
          },
          "metadata": {},
          "execution_count": 17
        }
      ]
    },
    {
      "cell_type": "markdown",
      "metadata": {
        "id": "iQB32rMB89kF"
      },
      "source": [
        "As expected, California has the highest priority, which we can determine with the `.idxmax()` method, which returns the index of the row with the highest value of a specified column"
      ]
    },
    {
      "cell_type": "code",
      "metadata": {
        "colab": {
          "base_uri": "https://localhost:8080/",
          "height": 35
        },
        "id": "0lT-xA1yLR7V",
        "outputId": "45382ff8-a142-4523-e763-6e5987396f9e"
      },
      "source": [
        "test_2020.loc[test_2020['Priority'].idxmax(),'State']"
      ],
      "execution_count": 18,
      "outputs": [
        {
          "output_type": "execute_result",
          "data": {
            "application/vnd.google.colaboratory.intrinsic+json": {
              "type": "string"
            },
            "text/plain": [
              "'California'"
            ]
          },
          "metadata": {},
          "execution_count": 18
        }
      ]
    },
    {
      "cell_type": "markdown",
      "metadata": {
        "id": "XYpJUOdH8JFA"
      },
      "source": [
        "Great, now we just need a function to find the state with the highest priority, add a seat to that state, and recalculate it's priority. (It would be wasteful to recompute each state's priority after each assignment since the priority doesn't change unless a seat is added.) While we're at it, let's make a list called `ORDER` to see the order in which states get a representative. This should be initialized once per complete trial"
      ]
    },
    {
      "cell_type": "code",
      "metadata": {
        "id": "oQIPGbV18Hn_"
      },
      "source": [
        "def addNextSeat(df, ORDER=[]):\n",
        "  indexNext = df['Priority'].idxmax() # The index of the row with the highest priority\n",
        "  # Add a seat to the state in that row\n",
        "  df.loc[indexNext,'RepsCalculated'] += 1\n",
        "  # Recompute the priority for this state\n",
        "  df.loc[indexNext,'Priority'] = EqualProportionsMethod(df.loc[indexNext])\n",
        "  # Add the state to the ORDER list\n",
        "  ORDER.append(df.loc[indexNext,'Abbr'])"
      ],
      "execution_count": 19,
      "outputs": []
    },
    {
      "cell_type": "markdown",
      "metadata": {
        "id": "USHZxU1z9tdW"
      },
      "source": [
        "Let's see the function works for just the first seat. Updating DataFrames inside functions can be tricky."
      ]
    },
    {
      "cell_type": "code",
      "metadata": {
        "colab": {
          "base_uri": "https://localhost:8080/",
          "height": 221
        },
        "id": "QPbvvcaj9rvY",
        "outputId": "13fa2f02-4d40-482b-cf30-e562bace0373"
      },
      "source": [
        "ORDER_TEST = []  \n",
        "addNextSeat(test_2020, ORDER_TEST)\n",
        "print(ORDER_TEST)\n",
        "test_2020.head()"
      ],
      "execution_count": 20,
      "outputs": [
        {
          "output_type": "stream",
          "name": "stdout",
          "text": [
            "['CA']\n"
          ]
        },
        {
          "output_type": "execute_result",
          "data": {
            "text/html": [
              "<div>\n",
              "<style scoped>\n",
              "    .dataframe tbody tr th:only-of-type {\n",
              "        vertical-align: middle;\n",
              "    }\n",
              "\n",
              "    .dataframe tbody tr th {\n",
              "        vertical-align: top;\n",
              "    }\n",
              "\n",
              "    .dataframe thead th {\n",
              "        text-align: right;\n",
              "    }\n",
              "</style>\n",
              "<table border=\"1\" class=\"dataframe\">\n",
              "  <thead>\n",
              "    <tr style=\"text-align: right;\">\n",
              "      <th></th>\n",
              "      <th>State</th>\n",
              "      <th>Abbr</th>\n",
              "      <th>Year</th>\n",
              "      <th>Population</th>\n",
              "      <th>Reps</th>\n",
              "      <th>Per_Rep</th>\n",
              "      <th>RepsCalculated</th>\n",
              "      <th>Priority</th>\n",
              "    </tr>\n",
              "  </thead>\n",
              "  <tbody>\n",
              "    <tr>\n",
              "      <th>0</th>\n",
              "      <td>Alabama</td>\n",
              "      <td>AL</td>\n",
              "      <td>2020</td>\n",
              "      <td>5030053</td>\n",
              "      <td>7</td>\n",
              "      <td>718579</td>\n",
              "      <td>1</td>\n",
              "      <td>3.556785e+06</td>\n",
              "    </tr>\n",
              "    <tr>\n",
              "      <th>1</th>\n",
              "      <td>Alaska</td>\n",
              "      <td>AK</td>\n",
              "      <td>2020</td>\n",
              "      <td>736081</td>\n",
              "      <td>1</td>\n",
              "      <td>736081</td>\n",
              "      <td>1</td>\n",
              "      <td>5.204879e+05</td>\n",
              "    </tr>\n",
              "    <tr>\n",
              "      <th>2</th>\n",
              "      <td>Arizona</td>\n",
              "      <td>AZ</td>\n",
              "      <td>2020</td>\n",
              "      <td>7158923</td>\n",
              "      <td>9</td>\n",
              "      <td>795435</td>\n",
              "      <td>1</td>\n",
              "      <td>5.062123e+06</td>\n",
              "    </tr>\n",
              "    <tr>\n",
              "      <th>3</th>\n",
              "      <td>Arkansas</td>\n",
              "      <td>AR</td>\n",
              "      <td>2020</td>\n",
              "      <td>3013756</td>\n",
              "      <td>4</td>\n",
              "      <td>753439</td>\n",
              "      <td>1</td>\n",
              "      <td>2.131047e+06</td>\n",
              "    </tr>\n",
              "    <tr>\n",
              "      <th>4</th>\n",
              "      <td>California</td>\n",
              "      <td>CA</td>\n",
              "      <td>2020</td>\n",
              "      <td>39576757</td>\n",
              "      <td>52</td>\n",
              "      <td>761091</td>\n",
              "      <td>2</td>\n",
              "      <td>1.615714e+07</td>\n",
              "    </tr>\n",
              "  </tbody>\n",
              "</table>\n",
              "</div>"
            ],
            "text/plain": [
              "        State Abbr  Year  ...  Per_Rep  RepsCalculated      Priority\n",
              "0     Alabama   AL  2020  ...   718579               1  3.556785e+06\n",
              "1      Alaska   AK  2020  ...   736081               1  5.204879e+05\n",
              "2     Arizona   AZ  2020  ...   795435               1  5.062123e+06\n",
              "3    Arkansas   AR  2020  ...   753439               1  2.131047e+06\n",
              "4  California   CA  2020  ...   761091               2  1.615714e+07\n",
              "\n",
              "[5 rows x 8 columns]"
            ]
          },
          "metadata": {},
          "execution_count": 20
        }
      ]
    },
    {
      "cell_type": "markdown",
      "metadata": {
        "id": "Dd9FvNgs93SJ"
      },
      "source": [
        "Great! California got a seat, and there are now 384 seats left. Let's give the remaining ones a go."
      ]
    },
    {
      "cell_type": "code",
      "metadata": {
        "colab": {
          "base_uri": "https://localhost:8080/",
          "height": 204
        },
        "id": "uysr2c9v92fi",
        "outputId": "8ab70b16-91fa-47ec-9506-60557e9c6c30"
      },
      "source": [
        "SEATS_LEFT = 384\n",
        "while SEATS_LEFT > 0:\n",
        "  addNextSeat(test_2020, ORDER_TEST)\n",
        "  SEATS_LEFT -= 1\n",
        "\n",
        "test_2020.head()"
      ],
      "execution_count": 21,
      "outputs": [
        {
          "output_type": "execute_result",
          "data": {
            "text/html": [
              "<div>\n",
              "<style scoped>\n",
              "    .dataframe tbody tr th:only-of-type {\n",
              "        vertical-align: middle;\n",
              "    }\n",
              "\n",
              "    .dataframe tbody tr th {\n",
              "        vertical-align: top;\n",
              "    }\n",
              "\n",
              "    .dataframe thead th {\n",
              "        text-align: right;\n",
              "    }\n",
              "</style>\n",
              "<table border=\"1\" class=\"dataframe\">\n",
              "  <thead>\n",
              "    <tr style=\"text-align: right;\">\n",
              "      <th></th>\n",
              "      <th>State</th>\n",
              "      <th>Abbr</th>\n",
              "      <th>Year</th>\n",
              "      <th>Population</th>\n",
              "      <th>Reps</th>\n",
              "      <th>Per_Rep</th>\n",
              "      <th>RepsCalculated</th>\n",
              "      <th>Priority</th>\n",
              "    </tr>\n",
              "  </thead>\n",
              "  <tbody>\n",
              "    <tr>\n",
              "      <th>0</th>\n",
              "      <td>Alabama</td>\n",
              "      <td>AL</td>\n",
              "      <td>2020</td>\n",
              "      <td>5030053</td>\n",
              "      <td>7</td>\n",
              "      <td>718579</td>\n",
              "      <td>7</td>\n",
              "      <td>672169.105833</td>\n",
              "    </tr>\n",
              "    <tr>\n",
              "      <th>1</th>\n",
              "      <td>Alaska</td>\n",
              "      <td>AK</td>\n",
              "      <td>2020</td>\n",
              "      <td>736081</td>\n",
              "      <td>1</td>\n",
              "      <td>736081</td>\n",
              "      <td>1</td>\n",
              "      <td>520487.866603</td>\n",
              "    </tr>\n",
              "    <tr>\n",
              "      <th>2</th>\n",
              "      <td>Arizona</td>\n",
              "      <td>AZ</td>\n",
              "      <td>2020</td>\n",
              "      <td>7158923</td>\n",
              "      <td>9</td>\n",
              "      <td>795435</td>\n",
              "      <td>9</td>\n",
              "      <td>754616.742459</td>\n",
              "    </tr>\n",
              "    <tr>\n",
              "      <th>3</th>\n",
              "      <td>Arkansas</td>\n",
              "      <td>AR</td>\n",
              "      <td>2020</td>\n",
              "      <td>3013756</td>\n",
              "      <td>4</td>\n",
              "      <td>753439</td>\n",
              "      <td>4</td>\n",
              "      <td>673896.328360</td>\n",
              "    </tr>\n",
              "    <tr>\n",
              "      <th>4</th>\n",
              "      <td>California</td>\n",
              "      <td>CA</td>\n",
              "      <td>2020</td>\n",
              "      <td>39576757</td>\n",
              "      <td>52</td>\n",
              "      <td>761091</td>\n",
              "      <td>52</td>\n",
              "      <td>753877.180693</td>\n",
              "    </tr>\n",
              "  </tbody>\n",
              "</table>\n",
              "</div>"
            ],
            "text/plain": [
              "        State Abbr  Year  ...  Per_Rep  RepsCalculated       Priority\n",
              "0     Alabama   AL  2020  ...   718579               7  672169.105833\n",
              "1      Alaska   AK  2020  ...   736081               1  520487.866603\n",
              "2     Arizona   AZ  2020  ...   795435               9  754616.742459\n",
              "3    Arkansas   AR  2020  ...   753439               4  673896.328360\n",
              "4  California   CA  2020  ...   761091              52  753877.180693\n",
              "\n",
              "[5 rows x 8 columns]"
            ]
          },
          "metadata": {},
          "execution_count": 21
        }
      ]
    },
    {
      "cell_type": "code",
      "metadata": {
        "colab": {
          "base_uri": "https://localhost:8080/"
        },
        "id": "H68HwdLNjM_f",
        "outputId": "8365fc29-8c6f-4c7d-c128-86e39395738d"
      },
      "source": [
        "print(ORDER_TEST[0:10])\n",
        "print(ORDER_TEST[-10:])\n",
        "print(\"Last state to get a seat is\", ORDER_TEST[-1])"
      ],
      "execution_count": 22,
      "outputs": [
        {
          "output_type": "stream",
          "name": "stdout",
          "text": [
            "['CA', 'TX', 'CA', 'FL', 'NY', 'TX', 'CA', 'PA', 'IL', 'CA']\n",
            "['TX', 'IL', 'RI', 'AL', 'NC', 'OR', 'CO', 'CA', 'MT', 'MN']\n",
            "Last state to get a seat is MN\n"
          ]
        }
      ]
    },
    {
      "cell_type": "markdown",
      "metadata": {
        "id": "3kYBrlBC-SzA"
      },
      "source": [
        "Looks good! We can double-check them all easily by taking the absolute value of the difference between our calculations from the official apportionment:"
      ]
    },
    {
      "cell_type": "code",
      "metadata": {
        "colab": {
          "base_uri": "https://localhost:8080/",
          "height": 221
        },
        "id": "N5ty9OgLuo00",
        "outputId": "88ca0239-ea6b-42a9-a1dc-8470064c67b9"
      },
      "source": [
        "test_2020['Error'] = np.abs(test_2020['Reps'] - test_2020['RepsCalculated'])\n",
        "print(\"ERROR:\", sum(test_2020['Error']))\n",
        "test_2020.head()"
      ],
      "execution_count": 23,
      "outputs": [
        {
          "output_type": "stream",
          "name": "stdout",
          "text": [
            "ERROR: 0\n"
          ]
        },
        {
          "output_type": "execute_result",
          "data": {
            "text/html": [
              "<div>\n",
              "<style scoped>\n",
              "    .dataframe tbody tr th:only-of-type {\n",
              "        vertical-align: middle;\n",
              "    }\n",
              "\n",
              "    .dataframe tbody tr th {\n",
              "        vertical-align: top;\n",
              "    }\n",
              "\n",
              "    .dataframe thead th {\n",
              "        text-align: right;\n",
              "    }\n",
              "</style>\n",
              "<table border=\"1\" class=\"dataframe\">\n",
              "  <thead>\n",
              "    <tr style=\"text-align: right;\">\n",
              "      <th></th>\n",
              "      <th>State</th>\n",
              "      <th>Abbr</th>\n",
              "      <th>Year</th>\n",
              "      <th>Population</th>\n",
              "      <th>Reps</th>\n",
              "      <th>Per_Rep</th>\n",
              "      <th>RepsCalculated</th>\n",
              "      <th>Priority</th>\n",
              "      <th>Error</th>\n",
              "    </tr>\n",
              "  </thead>\n",
              "  <tbody>\n",
              "    <tr>\n",
              "      <th>0</th>\n",
              "      <td>Alabama</td>\n",
              "      <td>AL</td>\n",
              "      <td>2020</td>\n",
              "      <td>5030053</td>\n",
              "      <td>7</td>\n",
              "      <td>718579</td>\n",
              "      <td>7</td>\n",
              "      <td>672169.105833</td>\n",
              "      <td>0</td>\n",
              "    </tr>\n",
              "    <tr>\n",
              "      <th>1</th>\n",
              "      <td>Alaska</td>\n",
              "      <td>AK</td>\n",
              "      <td>2020</td>\n",
              "      <td>736081</td>\n",
              "      <td>1</td>\n",
              "      <td>736081</td>\n",
              "      <td>1</td>\n",
              "      <td>520487.866603</td>\n",
              "      <td>0</td>\n",
              "    </tr>\n",
              "    <tr>\n",
              "      <th>2</th>\n",
              "      <td>Arizona</td>\n",
              "      <td>AZ</td>\n",
              "      <td>2020</td>\n",
              "      <td>7158923</td>\n",
              "      <td>9</td>\n",
              "      <td>795435</td>\n",
              "      <td>9</td>\n",
              "      <td>754616.742459</td>\n",
              "      <td>0</td>\n",
              "    </tr>\n",
              "    <tr>\n",
              "      <th>3</th>\n",
              "      <td>Arkansas</td>\n",
              "      <td>AR</td>\n",
              "      <td>2020</td>\n",
              "      <td>3013756</td>\n",
              "      <td>4</td>\n",
              "      <td>753439</td>\n",
              "      <td>4</td>\n",
              "      <td>673896.328360</td>\n",
              "      <td>0</td>\n",
              "    </tr>\n",
              "    <tr>\n",
              "      <th>4</th>\n",
              "      <td>California</td>\n",
              "      <td>CA</td>\n",
              "      <td>2020</td>\n",
              "      <td>39576757</td>\n",
              "      <td>52</td>\n",
              "      <td>761091</td>\n",
              "      <td>52</td>\n",
              "      <td>753877.180693</td>\n",
              "      <td>0</td>\n",
              "    </tr>\n",
              "  </tbody>\n",
              "</table>\n",
              "</div>"
            ],
            "text/plain": [
              "        State Abbr  Year  ...  RepsCalculated       Priority  Error\n",
              "0     Alabama   AL  2020  ...               7  672169.105833      0\n",
              "1      Alaska   AK  2020  ...               1  520487.866603      0\n",
              "2     Arizona   AZ  2020  ...               9  754616.742459      0\n",
              "3    Arkansas   AR  2020  ...               4  673896.328360      0\n",
              "4  California   CA  2020  ...              52  753877.180693      0\n",
              "\n",
              "[5 rows x 9 columns]"
            ]
          },
          "metadata": {},
          "execution_count": 23
        }
      ]
    },
    {
      "cell_type": "markdown",
      "metadata": {
        "id": "xHmIlpGcMVUo"
      },
      "source": [
        "Let's wrap this whole process in a function for easy manipulation:"
      ]
    },
    {
      "cell_type": "code",
      "metadata": {
        "id": "MkANdxPzMUrg"
      },
      "source": [
        "def calculateApportionment(popData=data_2020, ignoreStates=['District of Columbia', 'Puerto Rico'], TOTAL_SEATS=435):\n",
        "  ORDER_SEATS = []\n",
        "\n",
        "  data_filtered = popData[~popData['State'].isin(ignoreStates)]\n",
        "  data_filtered.reset_index(drop=True)\n",
        "\n",
        "  test_apportionment = data_filtered.copy()\n",
        "  test_apportionment['RepsCalculated'] = 1\n",
        "  test_apportionment[\"Priority\"] = test_apportionment.apply(EqualProportionsMethod, 1)\n",
        "\n",
        "  SEATS_LEFT = TOTAL_SEATS - test_apportionment.shape[0] # This is the number of rows, which will account for any hypothetical states we add\n",
        "  while SEATS_LEFT > 0:\n",
        "    addNextSeat(test_apportionment, ORDER_SEATS)\n",
        "    SEATS_LEFT -= 1\n",
        "\n",
        "  return test_apportionment, ORDER_SEATS "
      ],
      "execution_count": 36,
      "outputs": []
    },
    {
      "cell_type": "markdown",
      "metadata": {
        "id": "PRX8aNsaPlbp"
      },
      "source": [
        "## Now to Have Some Fun!\n",
        "\n",
        "We'll get fancy in the next notebook, but let's start messing around with statehood and the total number of seats just to get our feet wet. What if D.C. was a state, but the total number of seats remained at 435?"
      ]
    },
    {
      "cell_type": "code",
      "metadata": {
        "colab": {
          "base_uri": "https://localhost:8080/",
          "height": 204
        },
        "id": "rPvn79bJM4uE",
        "outputId": "065751f9-db16-4c74-bf10-060c8ea22267"
      },
      "source": [
        "demo_2020_with_dc, _ = calculateApportionment(ignoreStates=['Puerto Rico'])\n",
        "demo_2020_with_dc.head()"
      ],
      "execution_count": 38,
      "outputs": [
        {
          "output_type": "execute_result",
          "data": {
            "text/html": [
              "<div>\n",
              "<style scoped>\n",
              "    .dataframe tbody tr th:only-of-type {\n",
              "        vertical-align: middle;\n",
              "    }\n",
              "\n",
              "    .dataframe tbody tr th {\n",
              "        vertical-align: top;\n",
              "    }\n",
              "\n",
              "    .dataframe thead th {\n",
              "        text-align: right;\n",
              "    }\n",
              "</style>\n",
              "<table border=\"1\" class=\"dataframe\">\n",
              "  <thead>\n",
              "    <tr style=\"text-align: right;\">\n",
              "      <th></th>\n",
              "      <th>State</th>\n",
              "      <th>Abbr</th>\n",
              "      <th>Year</th>\n",
              "      <th>Population</th>\n",
              "      <th>Reps</th>\n",
              "      <th>Per_Rep</th>\n",
              "      <th>RepsCalculated</th>\n",
              "      <th>Priority</th>\n",
              "    </tr>\n",
              "  </thead>\n",
              "  <tbody>\n",
              "    <tr>\n",
              "      <th>0</th>\n",
              "      <td>Alabama</td>\n",
              "      <td>AL</td>\n",
              "      <td>2020</td>\n",
              "      <td>5030053</td>\n",
              "      <td>7</td>\n",
              "      <td>718579</td>\n",
              "      <td>7</td>\n",
              "      <td>672169.105833</td>\n",
              "    </tr>\n",
              "    <tr>\n",
              "      <th>1</th>\n",
              "      <td>Alaska</td>\n",
              "      <td>AK</td>\n",
              "      <td>2020</td>\n",
              "      <td>736081</td>\n",
              "      <td>1</td>\n",
              "      <td>736081</td>\n",
              "      <td>1</td>\n",
              "      <td>520487.866603</td>\n",
              "    </tr>\n",
              "    <tr>\n",
              "      <th>2</th>\n",
              "      <td>Arizona</td>\n",
              "      <td>AZ</td>\n",
              "      <td>2020</td>\n",
              "      <td>7158923</td>\n",
              "      <td>9</td>\n",
              "      <td>795435</td>\n",
              "      <td>9</td>\n",
              "      <td>754616.742459</td>\n",
              "    </tr>\n",
              "    <tr>\n",
              "      <th>3</th>\n",
              "      <td>Arkansas</td>\n",
              "      <td>AR</td>\n",
              "      <td>2020</td>\n",
              "      <td>3013756</td>\n",
              "      <td>4</td>\n",
              "      <td>753439</td>\n",
              "      <td>4</td>\n",
              "      <td>673896.328360</td>\n",
              "    </tr>\n",
              "    <tr>\n",
              "      <th>4</th>\n",
              "      <td>California</td>\n",
              "      <td>CA</td>\n",
              "      <td>2020</td>\n",
              "      <td>39576757</td>\n",
              "      <td>52</td>\n",
              "      <td>761091</td>\n",
              "      <td>52</td>\n",
              "      <td>753877.180693</td>\n",
              "    </tr>\n",
              "  </tbody>\n",
              "</table>\n",
              "</div>"
            ],
            "text/plain": [
              "        State Abbr  Year  ...  Per_Rep  RepsCalculated       Priority\n",
              "0     Alabama   AL  2020  ...   718579               7  672169.105833\n",
              "1      Alaska   AK  2020  ...   736081               1  520487.866603\n",
              "2     Arizona   AZ  2020  ...   795435               9  754616.742459\n",
              "3    Arkansas   AR  2020  ...   753439               4  673896.328360\n",
              "4  California   CA  2020  ...   761091              52  753877.180693\n",
              "\n",
              "[5 rows x 8 columns]"
            ]
          },
          "metadata": {},
          "execution_count": 38
        }
      ]
    },
    {
      "cell_type": "markdown",
      "metadata": {
        "id": "G9EJRg6NPoJl"
      },
      "source": [
        "## What's the difference?\n",
        "\n",
        "Let's write a function to location which states lost seat(s) if DC was a state"
      ]
    },
    {
      "cell_type": "code",
      "metadata": {
        "id": "9tUDDzdgPDP9",
        "colab": {
          "base_uri": "https://localhost:8080/"
        },
        "outputId": "4c29049f-170a-48da-e8bf-013241188837"
      },
      "source": [
        "def compareToReality(df):\n",
        "  df['Difference'] = df['RepsCalculated'] - df['Reps']\n",
        "  df['Per_Rep_Computed'] = df['Population'] / df['RepsCalculated']\n",
        "\n",
        "  changes = df[df['Difference'] != 0]\n",
        "  for index, row in df.iterrows():\n",
        "    if (row['Difference'] < 0):\n",
        "      print('%s LOST %s seat(s)' % (row['State'], -row['Difference']))\n",
        "    elif (row['Difference'] > 0):\n",
        "      print('%s GAINED %s seat(s)' % (row['State'], row['Difference']))\n",
        "\n",
        "compareToReality(demo_2020_with_dc)"
      ],
      "execution_count": 42,
      "outputs": [
        {
          "output_type": "stream",
          "name": "stdout",
          "text": [
            "District of Columbia GAINED 1 seat(s)\n",
            "Minnesota LOST 1 seat(s)\n"
          ]
        }
      ]
    },
    {
      "cell_type": "markdown",
      "metadata": {
        "id": "NKDbM-z6t9fT"
      },
      "source": [
        "Adding DC, which gets one seat, takes it's spot from Minnesota, which makes sense since Minnesota otherwise gets the last seat in the current apportionment"
      ]
    },
    {
      "cell_type": "markdown",
      "metadata": {
        "id": "g3UOcnFJR-KG"
      },
      "source": [
        "What if we add a seat for DC?"
      ]
    },
    {
      "cell_type": "code",
      "metadata": {
        "colab": {
          "base_uri": "https://localhost:8080/"
        },
        "id": "VPm_bXOWSAts",
        "outputId": "d095820e-329f-496d-91d9-4b1515d7922c"
      },
      "source": [
        "order_436 = []\n",
        "demo_2020_with_dc_436, order_436 = calculateApportionment(ignoreStates=['Puerto Rico'], TOTAL_SEATS=436)\n",
        "compareToReality(demo_2020_with_dc_436)\n",
        "print(\"Last seat went to %s\" % order_436[-1])"
      ],
      "execution_count": 44,
      "outputs": [
        {
          "output_type": "stream",
          "name": "stdout",
          "text": [
            "District of Columbia GAINED 1 seat(s)\n",
            "Last seat went to MN\n"
          ]
        }
      ]
    },
    {
      "cell_type": "markdown",
      "metadata": {
        "id": "Gw9xSNrW8SJ8"
      },
      "source": [
        "So adding D.C. _plus_ an extra seat for D.C. wouldn't alter any other apportionments, as we'd expect since D.C. would be the third smallest state: "
      ]
    },
    {
      "cell_type": "code",
      "metadata": {
        "colab": {
          "base_uri": "https://localhost:8080/",
          "height": 359
        },
        "id": "SN0ruqp-83Xg",
        "outputId": "dd8021d2-1b2f-44f9-9830-ddf915b5feee"
      },
      "source": [
        "demo_2020_with_dc_436.sort_values(\"Population\").head(10)[[\"State\", \"Population\", \"Year\", \"RepsCalculated\"]]"
      ],
      "execution_count": 46,
      "outputs": [
        {
          "output_type": "execute_result",
          "data": {
            "text/html": [
              "<div>\n",
              "<style scoped>\n",
              "    .dataframe tbody tr th:only-of-type {\n",
              "        vertical-align: middle;\n",
              "    }\n",
              "\n",
              "    .dataframe tbody tr th {\n",
              "        vertical-align: top;\n",
              "    }\n",
              "\n",
              "    .dataframe thead th {\n",
              "        text-align: right;\n",
              "    }\n",
              "</style>\n",
              "<table border=\"1\" class=\"dataframe\">\n",
              "  <thead>\n",
              "    <tr style=\"text-align: right;\">\n",
              "      <th></th>\n",
              "      <th>State</th>\n",
              "      <th>Population</th>\n",
              "      <th>Year</th>\n",
              "      <th>RepsCalculated</th>\n",
              "    </tr>\n",
              "  </thead>\n",
              "  <tbody>\n",
              "    <tr>\n",
              "      <th>51</th>\n",
              "      <td>Wyoming</td>\n",
              "      <td>577719</td>\n",
              "      <td>2020</td>\n",
              "      <td>1</td>\n",
              "    </tr>\n",
              "    <tr>\n",
              "      <th>46</th>\n",
              "      <td>Vermont</td>\n",
              "      <td>643503</td>\n",
              "      <td>2020</td>\n",
              "      <td>1</td>\n",
              "    </tr>\n",
              "    <tr>\n",
              "      <th>8</th>\n",
              "      <td>District of Columbia</td>\n",
              "      <td>689545</td>\n",
              "      <td>2020</td>\n",
              "      <td>1</td>\n",
              "    </tr>\n",
              "    <tr>\n",
              "      <th>1</th>\n",
              "      <td>Alaska</td>\n",
              "      <td>736081</td>\n",
              "      <td>2020</td>\n",
              "      <td>1</td>\n",
              "    </tr>\n",
              "    <tr>\n",
              "      <th>34</th>\n",
              "      <td>North Dakota</td>\n",
              "      <td>779702</td>\n",
              "      <td>2020</td>\n",
              "      <td>1</td>\n",
              "    </tr>\n",
              "    <tr>\n",
              "      <th>42</th>\n",
              "      <td>South Dakota</td>\n",
              "      <td>887770</td>\n",
              "      <td>2020</td>\n",
              "      <td>1</td>\n",
              "    </tr>\n",
              "    <tr>\n",
              "      <th>7</th>\n",
              "      <td>Delaware</td>\n",
              "      <td>990837</td>\n",
              "      <td>2020</td>\n",
              "      <td>1</td>\n",
              "    </tr>\n",
              "    <tr>\n",
              "      <th>26</th>\n",
              "      <td>Montana</td>\n",
              "      <td>1085407</td>\n",
              "      <td>2020</td>\n",
              "      <td>2</td>\n",
              "    </tr>\n",
              "    <tr>\n",
              "      <th>40</th>\n",
              "      <td>Rhode Island</td>\n",
              "      <td>1098163</td>\n",
              "      <td>2020</td>\n",
              "      <td>2</td>\n",
              "    </tr>\n",
              "    <tr>\n",
              "      <th>19</th>\n",
              "      <td>Maine</td>\n",
              "      <td>1363582</td>\n",
              "      <td>2020</td>\n",
              "      <td>2</td>\n",
              "    </tr>\n",
              "  </tbody>\n",
              "</table>\n",
              "</div>"
            ],
            "text/plain": [
              "                   State  Population  Year  RepsCalculated\n",
              "51               Wyoming      577719  2020               1\n",
              "46               Vermont      643503  2020               1\n",
              "8   District of Columbia      689545  2020               1\n",
              "1                 Alaska      736081  2020               1\n",
              "34          North Dakota      779702  2020               1\n",
              "42          South Dakota      887770  2020               1\n",
              "7               Delaware      990837  2020               1\n",
              "26               Montana     1085407  2020               2\n",
              "40          Rhode Island     1098163  2020               2\n",
              "19                 Maine     1363582  2020               2"
            ]
          },
          "metadata": {},
          "execution_count": 46
        }
      ]
    },
    {
      "cell_type": "markdown",
      "metadata": {
        "id": "1T7WD5oZR0YG"
      },
      "source": [
        "And what if we add Puerto Rico but not DC?"
      ]
    },
    {
      "cell_type": "code",
      "metadata": {
        "colab": {
          "base_uri": "https://localhost:8080/"
        },
        "id": "ctjEUNE3Rzr8",
        "outputId": "ad2c8cbb-5009-4da9-dc80-92602d2358e9"
      },
      "source": [
        "demo_2020_with_pr, _ = calculateApportionment(ignoreStates=['District of Columbia'])\n",
        "compareToReality(demo_2020_with_pr)"
      ],
      "execution_count": 47,
      "outputs": [
        {
          "output_type": "stream",
          "name": "stdout",
          "text": [
            "California LOST 1 seat(s)\n",
            "Colorado LOST 1 seat(s)\n",
            "Minnesota LOST 1 seat(s)\n",
            "Montana LOST 1 seat(s)\n",
            "Puerto Rico GAINED 4 seat(s)\n"
          ]
        }
      ]
    },
    {
      "cell_type": "markdown",
      "metadata": {
        "id": "8Cjm88rQtriC"
      },
      "source": [
        "Likewise, adding 4 seats for PR doesn't distrupt the apportionment otherwise"
      ]
    },
    {
      "cell_type": "code",
      "metadata": {
        "colab": {
          "base_uri": "https://localhost:8080/"
        },
        "id": "w8wqbcjYSjy_",
        "outputId": "28ba2977-f061-4bc6-c604-acbcb05bce13"
      },
      "source": [
        "demo_2020_with_pr_439, _ = calculateApportionment(ignoreStates=['District of Columbia'], TOTAL_SEATS=439)\n",
        "compareToReality(demo_2020_with_pr_439)"
      ],
      "execution_count": 48,
      "outputs": [
        {
          "output_type": "stream",
          "name": "stdout",
          "text": [
            "Puerto Rico GAINED 4 seat(s)\n"
          ]
        }
      ]
    },
    {
      "cell_type": "markdown",
      "metadata": {
        "id": "xhD8pAwcty1Y"
      },
      "source": [
        "Here's DC and PR, without expanding the House"
      ]
    },
    {
      "cell_type": "code",
      "metadata": {
        "colab": {
          "base_uri": "https://localhost:8080/"
        },
        "id": "83fOJTcnQZNv",
        "outputId": "9218fb3d-c66d-415f-8c73-a07f21a95309"
      },
      "source": [
        "demo_2020_with_dc_and_pr, _ = calculateApportionment(ignoreStates=[])\n",
        "compareToReality(demo_2020_with_dc_and_pr)"
      ],
      "execution_count": 49,
      "outputs": [
        {
          "output_type": "stream",
          "name": "stdout",
          "text": [
            "California LOST 1 seat(s)\n",
            "Colorado LOST 1 seat(s)\n",
            "District of Columbia GAINED 1 seat(s)\n",
            "Minnesota LOST 1 seat(s)\n",
            "Montana LOST 1 seat(s)\n",
            "Oregon LOST 1 seat(s)\n",
            "Puerto Rico GAINED 4 seat(s)\n"
          ]
        }
      ]
    },
    {
      "cell_type": "markdown",
      "metadata": {
        "id": "GvKzm8A_t3sC"
      },
      "source": [
        "And making room at the table"
      ]
    },
    {
      "cell_type": "code",
      "metadata": {
        "colab": {
          "base_uri": "https://localhost:8080/"
        },
        "id": "AUhH5op2Q4sw",
        "outputId": "b913b07f-dc32-46bb-f8e0-dc5349c15df8"
      },
      "source": [
        "demo_2020_with_dc_and_pr_440, _ = calculateApportionment(ignoreStates=[], TOTAL_SEATS=440)\n",
        "compareToReality(demo_2020_with_dc_and_pr_440)"
      ],
      "execution_count": 50,
      "outputs": [
        {
          "output_type": "stream",
          "name": "stdout",
          "text": [
            "District of Columbia GAINED 1 seat(s)\n",
            "Puerto Rico GAINED 4 seat(s)\n"
          ]
        }
      ]
    },
    {
      "cell_type": "markdown",
      "metadata": {
        "id": "RQyVHJmT9oTV"
      },
      "source": [
        "One last thing we can check: It's been reported that New York [very narrowly missed out on a seat by a different in 89 people](https://www.nytimes.com/2021/04/26/nyregion/new-york-census-congress.html). Would it have gotten the 436th seat?"
      ]
    },
    {
      "cell_type": "code",
      "metadata": {
        "id": "vjD6_5isS6ts",
        "colab": {
          "base_uri": "https://localhost:8080/"
        },
        "outputId": "68430283-3a25-42d7-d301-c27a55dc75d4"
      },
      "source": [
        "demo_2020_436, ORDER_436 = calculateApportionment(TOTAL_SEATS=436)\n",
        "print(ORDER_436[-1])"
      ],
      "execution_count": 51,
      "outputs": [
        {
          "output_type": "stream",
          "name": "stdout",
          "text": [
            "NY\n"
          ]
        }
      ]
    },
    {
      "cell_type": "markdown",
      "metadata": {
        "id": "-jKcjtVQ98Pe"
      },
      "source": [
        "Indeed! Add if we give it an extra 90 people?"
      ]
    },
    {
      "cell_type": "code",
      "metadata": {
        "colab": {
          "base_uri": "https://localhost:8080/"
        },
        "id": "fgh7wy9l966Q",
        "outputId": "a7861637-387b-4e9c-a533-ebd7faf86c36"
      },
      "source": [
        "data_2020_ny_plus90 = data_2020_states_only.copy()\n",
        "nyIdx = data_2020_ny_plus90.loc[data_2020_ny_plus90['Abbr'] == 'NY'].index[0]\n",
        "data_2020_ny_plus90.loc[nyIdx, 'Population'] += 90\n",
        "\n",
        "test_NY90, _ = calculateApportionment(popData = data_2020_ny_plus90)\n",
        "compareToReality(test_NY90)"
      ],
      "execution_count": 52,
      "outputs": [
        {
          "output_type": "stream",
          "name": "stdout",
          "text": [
            "Minnesota LOST 1 seat(s)\n",
            "New York GAINED 1 seat(s)\n"
          ]
        }
      ]
    },
    {
      "cell_type": "markdown",
      "metadata": {
        "id": "phE3IhtCGcoI"
      },
      "source": [
        "It's true! Now let's move on to the [next Notebook](https://colab.research.google.com/drive/1TjyO-2bO4z5X_Hblw0AoINpxTMjWDkIS?usp=sharing) to try different seat values in more depth"
      ]
    },
    {
      "cell_type": "code",
      "metadata": {
        "id": "PAsUWCdKXdLp"
      },
      "source": [
        ""
      ],
      "execution_count": null,
      "outputs": []
    }
  ]
}